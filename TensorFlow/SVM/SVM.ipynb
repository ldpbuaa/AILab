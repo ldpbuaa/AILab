{
 "cells": [
  {
   "cell_type": "code",
   "execution_count": 1,
   "metadata": {
    "collapsed": true
   },
   "outputs": [],
   "source": [
    "import matplotlib.pyplot as plt\n",
    "import numpy as np\n",
    "import tensorflow as tf\n",
    "from sklearn import datasets\n",
    "sess = tf.Session()"
   ]
  },
  {
   "cell_type": "code",
   "execution_count": 2,
   "metadata": {
    "collapsed": false
   },
   "outputs": [
    {
     "data": {
      "text/html": [
       "<script>requirejs.config({paths: { 'plotly': ['https://cdn.plot.ly/plotly-latest.min']},});if(!window.Plotly) {{require(['plotly'],function(plotly) {window.Plotly=plotly;});}}</script>"
      ],
      "text/vnd.plotly.v1+html": [
       "<script>requirejs.config({paths: { 'plotly': ['https://cdn.plot.ly/plotly-latest.min']},});if(!window.Plotly) {{require(['plotly'],function(plotly) {window.Plotly=plotly;});}}</script>"
      ]
     },
     "metadata": {},
     "output_type": "display_data"
    }
   ],
   "source": [
    "import pandas as pd # data processing, CSV file I/O (e.g. pd.read_csv)\n",
    "import os\n",
    "import gc\n",
    "import seaborn as sns\n",
    "\n",
    "from scipy import ndimage\n",
    "from subprocess import check_output\n",
    "\n",
    "import cv2\n",
    "\n",
    "\n",
    "pal = sns.color_palette()\n",
    "\n",
    "import plotly.offline as py\n",
    "py.init_notebook_mode(connected=True)\n",
    "import plotly.graph_objs as go\n",
    "import plotly.tools as tls"
   ]
  },
  {
   "cell_type": "code",
   "execution_count": 3,
   "metadata": {
    "collapsed": true
   },
   "outputs": [],
   "source": [
    "iris = datasets.load_iris()\n",
    "x_vals = np.array([[x[0], x[3]] for x in iris.data])\n",
    "y_vals = np.array([1 if y==0 else -1 for y in iris.target])\n",
    "class1_x = [x[0] for i,x in enumerate(x_vals) if\n",
    "y_vals[i]==1]\n",
    "class1_y = [x[1] for i,x in enumerate(x_vals) if\n",
    "y_vals[i]==1]\n",
    "class2_x = [x[0] for i,x in enumerate(x_vals) if\n",
    "y_vals[i]==-1]\n",
    "class2_y = [x[1] for i,x in enumerate(x_vals) if\n",
    "y_vals[i]==-1]"
   ]
  },
  {
   "cell_type": "code",
   "execution_count": 4,
   "metadata": {
    "collapsed": true
   },
   "outputs": [],
   "source": [
    "batch_size = 100\n",
    "x_data = tf.placeholder(shape=[None, 2], dtype=tf.float32)\n",
    "y_target = tf.placeholder(shape=[None, 1], dtype=tf.float32)\n",
    "prediction_grid = tf.placeholder(shape=[None, 2],\n",
    "dtype=tf.float32)\n",
    "b = tf.Variable(tf.random_normal(shape=[1,batch_size]))"
   ]
  },
  {
   "cell_type": "code",
   "execution_count": 5,
   "metadata": {
    "collapsed": true
   },
   "outputs": [],
   "source": [
    "gamma = tf.constant(-10.0) # feel free to explore different values of gamma \n",
    "dist = tf.reduce_sum(tf.square(x_data), 1)\n",
    "dist = tf.reshape(dist, [-1,1])\n",
    "sq_dists = tf.add(tf.subtract(dist, tf.multiply(2., tf.matmul(x_data,\n",
    "tf.transpose(x_data)))), tf.transpose(dist))\n",
    "my_kernel = tf.exp(tf.multiply(gamma, tf.abs(sq_dists)))\n",
    "#We now compute the loss for the dual optimization problem, as follows:\n",
    "model_output = tf.matmul(b, my_kernel)\n",
    "first_term = tf.reduce_sum(b)\n",
    "b_vec_cross = tf.matmul(tf.transpose(b), b)\n",
    "y_target_cross = tf.matmul(y_target, tf.transpose(y_target))\n",
    "second_term = tf.reduce_sum(tf.multiply(my_kernel,\n",
    "tf.multiply(b_vec_cross, y_target_cross)))\n",
    "loss = tf.negative(tf.subtract(first_term, second_term))"
   ]
  },
  {
   "cell_type": "code",
   "execution_count": 6,
   "metadata": {
    "collapsed": true
   },
   "outputs": [],
   "source": [
    "rA = tf.reshape(tf.reduce_sum(tf.square(x_data), 1),[-1,1])\n",
    "rB = tf.reshape(tf.reduce_sum(tf.square(prediction_grid), 1),\n",
    "[-1,1])\n",
    "pred_sq_dist = tf.add(tf.subtract(rA, tf.multiply(2., tf.matmul(x_data,\n",
    "tf.transpose(prediction_grid)))), tf.transpose(rB))"
   ]
  },
  {
   "cell_type": "code",
   "execution_count": 7,
   "metadata": {
    "collapsed": true
   },
   "outputs": [],
   "source": [
    "pred_kernel = tf.exp(tf.multiply(gamma, tf.abs(pred_sq_dist)))\n",
    "prediction_output =tf.matmul(tf.multiply(tf.transpose(y_target),b), pred_kernel)"
   ]
  },
  {
   "cell_type": "code",
   "execution_count": 8,
   "metadata": {
    "collapsed": true
   },
   "outputs": [],
   "source": [
    "prediction = tf.sign(prediction_output-tf.reduce_mean(prediction_output))"
   ]
  },
  {
   "cell_type": "code",
   "execution_count": 9,
   "metadata": {
    "collapsed": true
   },
   "outputs": [],
   "source": [
    "accuracy =tf.reduce_mean(tf.cast(tf.equal(tf.squeeze(prediction),tf.squeeze(y_target)), tf.float32))"
   ]
  },
  {
   "cell_type": "code",
   "execution_count": 10,
   "metadata": {
    "collapsed": true
   },
   "outputs": [],
   "source": [
    "my_opt = tf.train.GradientDescentOptimizer(0.01)\n",
    "train_step = my_opt.minimize(loss)\n",
    "init = tf.global_variables_initializer() # this line is different depending on your version of tf\n",
    "sess.run(init)"
   ]
  },
  {
   "cell_type": "code",
   "execution_count": 11,
   "metadata": {
    "collapsed": false
   },
   "outputs": [],
   "source": [
    "loss_vec = []\n",
    "batch_accuracy = []\n",
    "for i in range(300):\n",
    "    rand_index = np.random.choice(len(x_vals),size=batch_size)\n",
    "    rand_x = x_vals[rand_index]\n",
    "    rand_y = np.transpose([y_vals[rand_index]])\n",
    "    sess.run(train_step, feed_dict={x_data: rand_x, y_target:rand_y})\n",
    "    temp_loss = sess.run(loss, feed_dict={x_data: rand_x,y_target: rand_y})\n",
    "    loss_vec.append(temp_loss)\n",
    "    acc_temp = sess.run(accuracy, feed_dict={x_data: rand_x,y_target:rand_y,prediction_grid:rand_x})\n",
    "    batch_accuracy.append(acc_temp)"
   ]
  },
  {
   "cell_type": "code",
   "execution_count": 12,
   "metadata": {
    "collapsed": true
   },
   "outputs": [],
   "source": [
    "x_min, x_max = x_vals[:, 0].min() - 1, x_vals[:, 0].max() + 1\n",
    "y_min, y_max = x_vals[:, 1].min() - 1, x_vals[:, 1].max() + 1\n",
    "xx, yy = np.meshgrid(np.arange(x_min, x_max, 0.02),np.arange(y_min, y_max, 0.02))\n",
    "grid_points = np.c_[xx.ravel(), yy.ravel()]\n",
    "[grid_predictions] = sess.run(prediction, feed_dict={x_data:rand_x,y_target:rand_y,prediction_grid: grid_points})\n",
    "grid_predictions = grid_predictions.reshape(xx.shape)"
   ]
  },
  {
   "cell_type": "code",
   "execution_count": 13,
   "metadata": {
    "collapsed": false
   },
   "outputs": [
    {
     "name": "stderr",
     "output_type": "stream",
     "text": [
      "/home/ldp/.local/lib/python3.5/site-packages/numpy/ma/core.py:6385: MaskedArrayFutureWarning:\n",
      "\n",
      "In the future the default for ma.minimum.reduce will be axis=0, not the current None, to match np.minimum.reduce. Explicitly pass 0 or None to silence this warning.\n",
      "\n",
      "/home/ldp/.local/lib/python3.5/site-packages/numpy/ma/core.py:6385: MaskedArrayFutureWarning:\n",
      "\n",
      "In the future the default for ma.maximum.reduce will be axis=0, not the current None, to match np.maximum.reduce. Explicitly pass 0 or None to silence this warning.\n",
      "\n"
     ]
    },
    {
     "data": {
      "image/png": "[encoded data removed]",
      "text/plain": [
       "<matplotlib.figure.Figure at 0x7fcabfd632e8>"
      ]
     },
     "metadata": {},
     "output_type": "display_data"
    }
   ],
   "source": [
    "plt.contourf(xx, yy, grid_predictions, cmap=plt.cm.Paired,　alpha=0.8)\n",
    "plt.plot(class1_x, class1_y, 'ro', label='I. setosa')\n",
    "plt.plot(class2_x, class2_y, 'kx', label='Non setosa')\n",
    "plt.title('Non Linear (Gaussian) Kernel SVM Results: Iris Data')\n",
    "plt.xlabel('Pedal Length')\n",
    "plt.ylabel('Sepal Width')\n",
    "plt.legend(loc='lower right')\n",
    "plt.ylim([-0.5, 3.0])\n",
    "plt.xlim([3.5, 8.5])\n",
    "plt.show()"
   ]
  },
  {
   "cell_type": "code",
   "execution_count": 14,
   "metadata": {
    "collapsed": true
   },
   "outputs": [],
   "source": [
    "iris = datasets.load_iris()\n",
    "x_vals = np.array([[x[0], x[3]] for x in iris.data])\n",
    "y_vals1 = np.array([1 if y==0 else -1 for y in iris.target])\n",
    "y_vals2 = np.array([1 if y==1 else -1 for y in iris.target])\n",
    "y_vals3 = np.array([1 if y==2 else -1 for y in iris.target])\n",
    "y_vals = np.array([y_vals1, y_vals2, y_vals3])\n",
    "class1_x = [x[0] for i,x in enumerate(x_vals) if\n",
    "iris.target[i]==0]\n",
    "class1_y = [x[1] for i,x in enumerate(x_vals) if\n",
    "iris.target[i]==0]\n",
    "class2_x = [x[0] for i,x in enumerate(x_vals) if\n",
    "iris.target[i]==1]\n",
    "class2_y = [x[1] for i,x in enumerate(x_vals) if\n",
    "iris.target[i]==1]\n",
    "class3_x = [x[0] for i,x in enumerate(x_vals) if\n",
    "iris.target[i]==2]\n",
    "class3_y = [x[1] for i,x in enumerate(x_vals) if\n",
    "iris.target[i]==2]"
   ]
  },
  {
   "cell_type": "code",
   "execution_count": 15,
   "metadata": {
    "collapsed": true
   },
   "outputs": [],
   "source": [
    "batch_size = 50\n",
    "x_data = tf.placeholder(shape=[None, 2], dtype=tf.float32)\n",
    "y_target = tf.placeholder(shape=[3, None], dtype=tf.float32)\n",
    "prediction_grid = tf.placeholder(shape=[None, 2],dtype=tf.float32)\n",
    "b = tf.Variable(tf.random_normal(shape=[3,batch_size]))"
   ]
  },
  {
   "cell_type": "code",
   "execution_count": 16,
   "metadata": {
    "collapsed": true
   },
   "outputs": [],
   "source": [
    "gamma = tf.constant(-1.0) \n",
    "dist = tf.reduce_sum(tf.square(x_data), 1)\n",
    "dist = tf.reshape(dist, [-1,1])\n",
    "sq_dists = tf.add(tf.subtract(dist, tf.multiply(2., tf.matmul(x_data,tf.transpose(x_data)))), tf.transpose(dist))\n",
    "my_kernel = tf.exp(tf.multiply(gamma, tf.abs(sq_dists)))"
   ]
  },
  {
   "cell_type": "code",
   "execution_count": 17,
   "metadata": {
    "collapsed": true
   },
   "outputs": [],
   "source": [
    "#batch multiplication\n",
    "def reshape_matmul(mat):\n",
    "    v1 = tf.expand_dims(mat, 1)\n",
    "    v2 = tf.reshape(v1, [3, batch_size, 1])\n",
    "    return(tf.matmul(v2, v1))"
   ]
  },
  {
   "cell_type": "code",
   "execution_count": 18,
   "metadata": {
    "collapsed": true
   },
   "outputs": [],
   "source": [
    "#loss\n",
    "model_output = tf.matmul(b, my_kernel)\n",
    "first_term = tf.reduce_sum(b)\n",
    "b_vec_cross = tf.matmul(tf.transpose(b), b)\n",
    "y_target_cross = reshape_matmul(y_target)\n",
    "second_term = tf.reduce_sum(tf.multiply(my_kernel,tf.multiply(b_vec_cross, y_target_cross)),[1,2])\n",
    "loss = tf.reduce_sum(tf.negative(tf.subtract(first_term, second_term)))"
   ]
  },
  {
   "cell_type": "code",
   "execution_count": 19,
   "metadata": {
    "collapsed": true
   },
   "outputs": [],
   "source": [
    "rA = tf.reshape(tf.reduce_sum(tf.square(x_data), 1),[-1,1])\n",
    "rB = tf.reshape(tf.reduce_sum(tf.square(prediction_grid), 1),[-1,1])\n",
    "\n",
    "pred_sq_dist = tf.add(tf.subtract(rA, tf.multiply(2., tf.matmul(x_data,tf.transpose(prediction_grid)))), tf.transpose(rB))\n",
    "pred_kernel = tf.exp(tf.multiply(gamma, tf.abs(pred_sq_dist)))"
   ]
  },
  {
   "cell_type": "code",
   "execution_count": 20,
   "metadata": {
    "collapsed": true
   },
   "outputs": [],
   "source": [
    "prediction_output = tf.matmul(tf.multiply(y_target,b),pred_kernel)\n",
    "prediction = tf.arg_max(prediction_output-tf.expand_dims(tf.reduce_mean(prediction_output,1), 1), 0)\n",
    "accuracy = tf.reduce_mean(tf.cast(tf.equal(prediction,tf.argmax(y_target,0)), tf.float32))"
   ]
  },
  {
   "cell_type": "code",
   "execution_count": 21,
   "metadata": {
    "collapsed": true
   },
   "outputs": [],
   "source": [
    "my_opt = tf.train.GradientDescentOptimizer(0.01)\n",
    "train_step = my_opt.minimize(loss)\n",
    "init = tf.global_variables_initializer()\n",
    "sess.run(init)"
   ]
  },
  {
   "cell_type": "code",
   "execution_count": 22,
   "metadata": {
    "collapsed": true
   },
   "outputs": [],
   "source": [
    "loss_vec = []\n",
    "batch_accuracy = []"
   ]
  },
  {
   "cell_type": "code",
   "execution_count": 23,
   "metadata": {
    "collapsed": false
   },
   "outputs": [
    {
     "name": "stdout",
     "output_type": "stream",
     "text": [
      "Step #5\n",
      "Loss = 42.634\n",
      "Step #10\n",
      "Loss = 27.2177\n",
      "Step #15\n",
      "Loss = 17.9595\n",
      "Step #20\n",
      "Loss = 8.25513\n",
      "Step #25\n",
      "Loss = -0.337186\n",
      "Step #30\n",
      "Loss = -11.1627\n",
      "Step #35\n",
      "Loss = -5.71995\n",
      "Step #40\n",
      "Loss = -7.55356\n",
      "Step #45\n",
      "Loss = -8.99611\n",
      "Step #50\n",
      "Loss = -9.5577\n",
      "Step #55\n",
      "Loss = -10.7482\n",
      "Step #60\n",
      "Loss = -10.5681\n",
      "Step #65\n",
      "Loss = -11.8732\n",
      "Step #70\n",
      "Loss = -13.1309\n",
      "Step #75\n",
      "Loss = -11.8064\n",
      "Step #80\n",
      "Loss = -13.0734\n",
      "Step #85\n",
      "Loss = -11.4097\n",
      "Step #90\n",
      "Loss = -12.02\n",
      "Step #95\n",
      "Loss = -12.3009\n",
      "Step #100\n",
      "Loss = -12.1006\n",
      "Step #105\n",
      "Loss = -11.093\n",
      "Step #110\n",
      "Loss = -12.4669\n",
      "Step #115\n",
      "Loss = -13.0574\n",
      "Step #120\n",
      "Loss = -12.3656\n",
      "Step #125\n",
      "Loss = -12.1467\n",
      "Step #130\n",
      "Loss = -12.0563\n",
      "Step #135\n",
      "Loss = -11.9701\n",
      "Step #140\n",
      "Loss = -13.2737\n",
      "Step #145\n",
      "Loss = -13.2944\n",
      "Step #150\n",
      "Loss = -11.9458\n",
      "Step #155\n",
      "Loss = -10.827\n",
      "Step #160\n",
      "Loss = -13.4344\n",
      "Step #165\n",
      "Loss = -11.4478\n",
      "Step #170\n",
      "Loss = -13.1337\n",
      "Step #175\n",
      "Loss = -12.7893\n",
      "Step #180\n",
      "Loss = -11.3913\n",
      "Step #185\n",
      "Loss = -13.3639\n",
      "Step #190\n",
      "Loss = -11.4933\n",
      "Step #195\n",
      "Loss = -14.1915\n",
      "Step #200\n",
      "Loss = -12.4613\n",
      "Step #205\n",
      "Loss = -12.5821\n",
      "Step #210\n",
      "Loss = -12.7169\n",
      "Step #215\n",
      "Loss = -13.4461\n",
      "Step #220\n",
      "Loss = -12.8621\n",
      "Step #225\n",
      "Loss = -13.69\n",
      "Step #230\n",
      "Loss = -12.8432\n",
      "Step #235\n",
      "Loss = -13.0029\n",
      "Step #240\n",
      "Loss = -13.2968\n",
      "Step #245\n",
      "Loss = -10.8399\n",
      "Step #250\n",
      "Loss = -14.8573\n",
      "Step #255\n",
      "Loss = -11.5912\n",
      "Step #260\n",
      "Loss = -13.1426\n",
      "Step #265\n",
      "Loss = -13.5907\n",
      "Step #270\n",
      "Loss = -12.8711\n",
      "Step #275\n",
      "Loss = -11.1241\n",
      "Step #280\n",
      "Loss = -12.0508\n",
      "Step #285\n",
      "Loss = -12.1458\n",
      "Step #290\n",
      "Loss = -11.0751\n",
      "Step #295\n",
      "Loss = -11.7671\n",
      "Step #300\n",
      "Loss = -12.1957\n",
      "Step #305\n",
      "Loss = -14.1056\n",
      "Step #310\n",
      "Loss = -13.1938\n",
      "Step #315\n",
      "Loss = -12.9432\n",
      "Step #320\n",
      "Loss = -12.2571\n",
      "Step #325\n",
      "Loss = -11.4042\n",
      "Step #330\n",
      "Loss = -13.2745\n",
      "Step #335\n",
      "Loss = -11.4448\n",
      "Step #340\n",
      "Loss = -11.6765\n",
      "Step #345\n",
      "Loss = -12.3023\n",
      "Step #350\n",
      "Loss = -13.7412\n",
      "Step #355\n",
      "Loss = -11.8918\n",
      "Step #360\n",
      "Loss = -13.2762\n",
      "Step #365\n",
      "Loss = -10.7609\n",
      "Step #370\n",
      "Loss = -12.1923\n",
      "Step #375\n",
      "Loss = -13.8437\n",
      "Step #380\n",
      "Loss = -12.6354\n",
      "Step #385\n",
      "Loss = -14.0549\n",
      "Step #390\n",
      "Loss = -12.2419\n",
      "Step #395\n",
      "Loss = -10.6695\n",
      "Step #400\n",
      "Loss = -14.1149\n",
      "Step #405\n",
      "Loss = -12.3969\n",
      "Step #410\n",
      "Loss = -12.5617\n",
      "Step #415\n",
      "Loss = -12.9393\n",
      "Step #420\n",
      "Loss = -14.0261\n",
      "Step #425\n",
      "Loss = -13.5863\n",
      "Step #430\n",
      "Loss = -12.8698\n",
      "Step #435\n",
      "Loss = -12.2042\n",
      "Step #440\n",
      "Loss = -12.2716\n",
      "Step #445\n",
      "Loss = -13.1503\n",
      "Step #450\n",
      "Loss = -12.1414\n",
      "Step #455\n",
      "Loss = -11.4529\n",
      "Step #460\n",
      "Loss = -12.3232\n",
      "Step #465\n",
      "Loss = -13.3787\n",
      "Step #470\n",
      "Loss = -12.6136\n",
      "Step #475\n",
      "Loss = -13.194\n",
      "Step #480\n",
      "Loss = -12.6748\n",
      "Step #485\n",
      "Loss = -12.3642\n",
      "Step #490\n",
      "Loss = -13.9142\n",
      "Step #495\n",
      "Loss = -15.283\n",
      "Step #500\n",
      "Loss = -13.126\n",
      "Step #505\n",
      "Loss = -12.8204\n",
      "Step #510\n",
      "Loss = -13.7906\n",
      "Step #515\n",
      "Loss = -12.6705\n",
      "Step #520\n",
      "Loss = -12.3098\n",
      "Step #525\n",
      "Loss = -12.5233\n",
      "Step #530\n",
      "Loss = -13.3569\n",
      "Step #535\n",
      "Loss = -13.6248\n",
      "Step #540\n",
      "Loss = -9.91525\n",
      "Step #545\n",
      "Loss = -13.2222\n",
      "Step #550\n",
      "Loss = -14.3254\n",
      "Step #555\n",
      "Loss = -12.276\n",
      "Step #560\n",
      "Loss = -14.0468\n",
      "Step #565\n",
      "Loss = -13.4083\n",
      "Step #570\n",
      "Loss = -13.2334\n",
      "Step #575\n",
      "Loss = -13.9694\n",
      "Step #580\n",
      "Loss = -12.1192\n",
      "Step #585\n",
      "Loss = -12.1672\n",
      "Step #590\n",
      "Loss = -11.8147\n",
      "Step #595\n",
      "Loss = -13.5635\n",
      "Step #600\n",
      "Loss = -11.865\n",
      "Step #605\n",
      "Loss = -12.7492\n",
      "Step #610\n",
      "Loss = -13.5695\n",
      "Step #615\n",
      "Loss = -12.2339\n",
      "Step #620\n",
      "Loss = -11.851\n",
      "Step #625\n",
      "Loss = -12.365\n",
      "Step #630\n",
      "Loss = -12.2072\n",
      "Step #635\n",
      "Loss = -12.1837\n",
      "Step #640\n",
      "Loss = -12.9362\n",
      "Step #645\n",
      "Loss = -10.8385\n",
      "Step #650\n",
      "Loss = -11.7549\n",
      "Step #655\n",
      "Loss = -12.0614\n",
      "Step #660\n",
      "Loss = -12.5361\n",
      "Step #665\n",
      "Loss = -12.7835\n",
      "Step #670\n",
      "Loss = -11.2317\n",
      "Step #675\n",
      "Loss = -12.0816\n",
      "Step #680\n",
      "Loss = -13.7838\n",
      "Step #685\n",
      "Loss = -12.5755\n",
      "Step #690\n",
      "Loss = -11.8727\n",
      "Step #695\n",
      "Loss = -12.3202\n",
      "Step #700\n",
      "Loss = -12.6095\n",
      "Step #705\n",
      "Loss = -12.9603\n",
      "Step #710\n",
      "Loss = -12.8196\n",
      "Step #715\n",
      "Loss = -13.2202\n",
      "Step #720\n",
      "Loss = -11.6528\n",
      "Step #725\n",
      "Loss = -12.3045\n",
      "Step #730\n",
      "Loss = -12.8204\n",
      "Step #735\n",
      "Loss = -11.5846\n",
      "Step #740\n",
      "Loss = -11.4172\n",
      "Step #745\n",
      "Loss = -14.5329\n",
      "Step #750\n",
      "Loss = -13.2899\n",
      "Step #755\n",
      "Loss = -11.2591\n",
      "Step #760\n",
      "Loss = -11.4515\n",
      "Step #765\n",
      "Loss = -12.8034\n",
      "Step #770\n",
      "Loss = -13.7288\n",
      "Step #775\n",
      "Loss = -13.9438\n",
      "Step #780\n",
      "Loss = -12.9122\n",
      "Step #785\n",
      "Loss = -13.8456\n",
      "Step #790\n",
      "Loss = -13.5992\n",
      "Step #795\n",
      "Loss = -14.1207\n",
      "Step #800\n",
      "Loss = -13.5376\n",
      "Step #805\n",
      "Loss = -13.199\n",
      "Step #810\n",
      "Loss = -12.6497\n",
      "Step #815\n",
      "Loss = -12.4316\n",
      "Step #820\n",
      "Loss = -12.2127\n",
      "Step #825\n",
      "Loss = -11.481\n",
      "Step #830\n",
      "Loss = -11.4551\n",
      "Step #835\n",
      "Loss = -13.3024\n",
      "Step #840\n",
      "Loss = -12.7822\n",
      "Step #845\n",
      "Loss = -13.3118\n",
      "Step #850\n",
      "Loss = -13.1334\n",
      "Step #855\n",
      "Loss = -13.3149\n",
      "Step #860\n",
      "Loss = -12.3565\n",
      "Step #865\n",
      "Loss = -11.7603\n",
      "Step #870\n",
      "Loss = -12.1098\n",
      "Step #875\n",
      "Loss = -13.3251\n",
      "Step #880\n",
      "Loss = -11.9945\n",
      "Step #885\n",
      "Loss = -11.8236\n",
      "Step #890\n",
      "Loss = -13.6528\n",
      "Step #895\n",
      "Loss = -12.3768\n",
      "Step #900\n",
      "Loss = -12.8487\n",
      "Step #905\n",
      "Loss = -13.7404\n",
      "Step #910\n",
      "Loss = -11.5158\n",
      "Step #915\n",
      "Loss = -13.2923\n",
      "Step #920\n",
      "Loss = -12.6477\n",
      "Step #925\n",
      "Loss = -13.0684\n",
      "Step #930\n",
      "Loss = -12.8083\n",
      "Step #935\n",
      "Loss = -14.0866\n",
      "Step #940\n",
      "Loss = -12.8514\n",
      "Step #945\n",
      "Loss = -12.4013\n",
      "Step #950\n",
      "Loss = -11.4175\n",
      "Step #955\n",
      "Loss = -12.8322\n",
      "Step #960\n",
      "Loss = -13.3486\n",
      "Step #965\n",
      "Loss = -12.4928\n",
      "Step #970\n",
      "Loss = -12.7416\n",
      "Step #975\n",
      "Loss = -13.062\n",
      "Step #980\n",
      "Loss = -11.6424\n",
      "Step #985\n",
      "Loss = -13.0353\n",
      "Step #990\n",
      "Loss = -13.4649\n",
      "Step #995\n",
      "Loss = -14.1589\n",
      "Step #1000\n",
      "Loss = -12.4596\n"
     ]
    }
   ],
   "source": [
    "for i in range(1000):\n",
    "    rand_index = np.random.choice(len(x_vals),\n",
    "    size=batch_size)\n",
    "    rand_x = x_vals[rand_index]\n",
    "    rand_y = y_vals[:,rand_index]\n",
    "    sess.run(train_step, feed_dict={x_data: rand_x, y_target:rand_y})\n",
    "    temp_loss = sess.run(loss, feed_dict={x_data: rand_x,y_target: rand_y})\n",
    "    loss_vec.append(temp_loss)\n",
    "    acc_temp = sess.run(accuracy, feed_dict={x_data: rand_x,y_target: rand_y, prediction_grid:rand_x})\n",
    "    batch_accuracy.append(acc_temp)\n",
    "    if (i+1)%5==0:\n",
    "        print('Step #' + str(i+1))\n",
    "        print('Loss = ' + str(temp_loss))"
   ]
  },
  {
   "cell_type": "code",
   "execution_count": null,
   "metadata": {
    "collapsed": true
   },
   "outputs": [],
   "source": []
  }
 ],
 "metadata": {
  "anaconda-cloud": {},
  "kernelspec": {
   "display_name": "Python [default]",
   "language": "python",
   "name": "python3"
  },
  "language_info": {
   "codemirror_mode": {
    "name": "ipython",
    "version": 3
   },
   "file_extension": ".py",
   "mimetype": "text/x-python",
   "name": "python",
   "nbconvert_exporter": "python",
   "pygments_lexer": "ipython3",
   "version": "3.5.2"
  }
 },
 "nbformat": 4,
 "nbformat_minor": 1
}
